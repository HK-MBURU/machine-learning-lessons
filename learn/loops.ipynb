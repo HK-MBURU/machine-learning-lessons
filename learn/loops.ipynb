{
 "cells": [
  {
   "cell_type": "code",
   "execution_count": 8,
   "metadata": {},
   "outputs": [
    {
     "data": {
      "text/plain": [
       "['a', 'b', ['c', ['d', 'e', ['f', 'g', 'h', 'i', 'j'], 'k'], 'l'], 'm', 'n']"
      ]
     },
     "execution_count": 8,
     "metadata": {},
     "output_type": "execute_result"
    }
   ],
   "source": [
    "list1=[\"a\",\"b\",[\"c\",[\"d\",\"e\",[\"f\",\"g\"],\"k\"],\"l\"],\"m\",\"n\"]\n",
    "# sub list to add\n",
    "sub_list=[\"h\",\"i\",\"j\"]\n",
    "\n",
    "list1[2][1][2].extend(sub_list)\n",
    "list1"
   ]
  },
  {
   "cell_type": "code",
   "execution_count": 10,
   "metadata": {},
   "outputs": [
    {
     "name": "stdout",
     "output_type": "stream",
     "text": [
      "7\n",
      "8\n",
      "9\n",
      "10\n"
     ]
    }
   ],
   "source": [
    "# loops\n",
    "num=[5,6,7,8]\n",
    "\n",
    "for n in num:\n",
    "    print(n+2)\n"
   ]
  },
  {
   "cell_type": "code",
   "execution_count": 29,
   "metadata": {},
   "outputs": [
    {
     "name": "stdout",
     "output_type": "stream",
     "text": [
      "10\n"
     ]
    }
   ],
   "source": [
    "numbers=[1,2,3,4]\n",
    "total=0\n",
    "for num in numbers:\n",
    "    total=num+total\n",
    "\n",
    "print(total)"
   ]
  },
  {
   "cell_type": "code",
   "execution_count": 31,
   "metadata": {},
   "outputs": [
    {
     "name": "stdout",
     "output_type": "stream",
     "text": [
      "28\n"
     ]
    }
   ],
   "source": [
    "numbers=[6,8,3,1,10]\n",
    "sum=0\n",
    "\n",
    "for n in numbers:\n",
    "    sum+=n\n",
    "print(sum)\n"
   ]
  },
  {
   "cell_type": "code",
   "execution_count": 34,
   "metadata": {},
   "outputs": [
    {
     "name": "stdout",
     "output_type": "stream",
     "text": [
      "Elon\n",
      "Steve\n",
      "Larry\n",
      "Sergey\n",
      "Bill\n"
     ]
    }
   ],
   "source": [
    "# given a list of full names extract the first name in the list\n",
    "names=['Elon Musk','Steve Jobs','Larry Page', 'Sergey Brin','Bill Gates']\n",
    "for name in names:\n",
    "    print(name.split(\" \")[0])"
   ]
  },
  {
   "cell_type": "code",
   "execution_count": 37,
   "metadata": {},
   "outputs": [
    {
     "name": "stdout",
     "output_type": "stream",
     "text": [
      "[0, 3, 6, 9]\n"
     ]
    }
   ],
   "source": [
    "# Range function\n",
    "print(list(range(0,10,3)))"
   ]
  },
  {
   "cell_type": "code",
   "execution_count": 39,
   "metadata": {},
   "outputs": [
    {
     "name": "stdout",
     "output_type": "stream",
     "text": [
      "Hello Reagan\n",
      "Hello Ian\n",
      "Hello Happy\n",
      "Hello Tabitha\n"
     ]
    }
   ],
   "source": [
    "visitors=[\"Reagan\",\"Ian\",\"Happy\",\"Tabitha\"]\n",
    "\n",
    "for i in range(len(visitors)):\n",
    "    print(f\"Hello {visitors[i]}\")"
   ]
  },
  {
   "cell_type": "code",
   "execution_count": 8,
   "metadata": {},
   "outputs": [
    {
     "name": "stdout",
     "output_type": "stream",
     "text": [
      "0\n",
      "3\n",
      "6\n",
      "9\n",
      "12\n",
      "15\n",
      "18\n",
      "21\n",
      "24\n",
      "27\n",
      "30\n"
     ]
    }
   ],
   "source": [
    "# Exercise 3\n",
    "# Get all numbers divisible by 3 between 0 and number (user input)\n",
    "\n",
    "lastNo=int(input(\"Enter the last No\"))\n",
    "\n",
    "for i in range(0,lastNo,3):\n",
    "    print(i)\n"
   ]
  },
  {
   "cell_type": "code",
   "execution_count": 10,
   "metadata": {},
   "outputs": [
    {
     "name": "stdout",
     "output_type": "stream",
     "text": [
      "Confirmed Users: []\n",
      "Unverified Users: ['user1', 'user2', 'user3']\n"
     ]
    }
   ],
   "source": [
    "# Exercise 5\n",
    "# consider list of newly registered  but unverified  users of a website.\n",
    "# After we verify these users, how can we move them to a separate list of cofirmed users?\n",
    "unverified_users=[]\n",
    "confirmed_users=[]\n",
    "\n",
    "unverified_users.extend([\"user1\",\"user2\",\"user3\"])\n",
    "\n",
    "def is_verified(user):\n",
    "    \n",
    "    if user.endswith(\"@example.com\"):  \n",
    "        return True\n",
    "    else:\n",
    "        return False\n",
    "\n",
    "\n",
    "for user in unverified_users:\n",
    "    if is_verified(user):\n",
    "        confirmed_users.append(user)\n",
    "        unverified_users.remove(user)\n",
    "\n",
    "print(\"Confirmed Users:\",confirmed_users)\n",
    "print(\"Unverified Users:\",unverified_users)"
   ]
  }
 ],
 "metadata": {
  "kernelspec": {
   "display_name": "Python 3",
   "language": "python",
   "name": "python3"
  },
  "language_info": {
   "codemirror_mode": {
    "name": "ipython",
    "version": 3
   },
   "file_extension": ".py",
   "mimetype": "text/x-python",
   "name": "python",
   "nbconvert_exporter": "python",
   "pygments_lexer": "ipython3",
   "version": "3.10.5"
  },
  "orig_nbformat": 4
 },
 "nbformat": 4,
 "nbformat_minor": 2
}
