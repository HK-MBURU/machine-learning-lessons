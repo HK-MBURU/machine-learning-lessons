{
 "cells": [
  {
   "cell_type": "code",
   "execution_count": 8,
   "metadata": {},
   "outputs": [
    {
     "data": {
      "text/plain": [
       "['a', 'b', ['c', ['d', 'e', ['f', 'g', 'h', 'i', 'j'], 'k'], 'l'], 'm', 'n']"
      ]
     },
     "execution_count": 8,
     "metadata": {},
     "output_type": "execute_result"
    }
   ],
   "source": [
    "list1=[\"a\",\"b\",[\"c\",[\"d\",\"e\",[\"f\",\"g\"],\"k\"],\"l\"],\"m\",\"n\"]\n",
    "# sub list to add\n",
    "sub_list=[\"h\",\"i\",\"j\"]\n",
    "\n",
    "list1[2][1][2].extend(sub_list)\n",
    "list1"
   ]
  },
  {
   "cell_type": "code",
   "execution_count": 10,
   "metadata": {},
   "outputs": [
    {
     "name": "stdout",
     "output_type": "stream",
     "text": [
      "7\n",
      "8\n",
      "9\n",
      "10\n"
     ]
    }
   ],
   "source": [
    "# loops\n",
    "num=[5,6,7,8]\n",
    "\n",
    "for n in num:\n",
    "    print(n+2)\n"
   ]
  },
  {
   "cell_type": "code",
   "execution_count": 29,
   "metadata": {},
   "outputs": [
    {
     "name": "stdout",
     "output_type": "stream",
     "text": [
      "10\n"
     ]
    }
   ],
   "source": [
    "numbers=[1,2,3,4]\n",
    "total=0\n",
    "for num in numbers:\n",
    "    total=num+total\n",
    "\n",
    "print(total)"
   ]
  },
  {
   "cell_type": "code",
   "execution_count": 31,
   "metadata": {},
   "outputs": [
    {
     "name": "stdout",
     "output_type": "stream",
     "text": [
      "28\n"
     ]
    }
   ],
   "source": [
    "numbers=[6,8,3,1,10]\n",
    "sum=0\n",
    "\n",
    "for n in numbers:\n",
    "    sum+=n\n",
    "print(sum)\n"
   ]
  },
  {
   "cell_type": "code",
   "execution_count": 34,
   "metadata": {},
   "outputs": [
    {
     "name": "stdout",
     "output_type": "stream",
     "text": [
      "Elon\n",
      "Steve\n",
      "Larry\n",
      "Sergey\n",
      "Bill\n"
     ]
    }
   ],
   "source": [
    "# given a list of full names extract the first name in the list\n",
    "names=['Elon Musk','Steve Jobs','Larry Page', 'Sergey Brin','Bill Gates']\n",
    "for name in names:\n",
    "    print(name.split(\" \")[0])"
   ]
  },
  {
   "cell_type": "code",
   "execution_count": 37,
   "metadata": {},
   "outputs": [
    {
     "name": "stdout",
     "output_type": "stream",
     "text": [
      "[0, 3, 6, 9]\n"
     ]
    }
   ],
   "source": [
    "# Range function\n",
    "print(list(range(0,10,3)))"
   ]
  },
  {
   "cell_type": "code",
   "execution_count": 39,
   "metadata": {},
   "outputs": [
    {
     "name": "stdout",
     "output_type": "stream",
     "text": [
      "Hello Reagan\n",
      "Hello Ian\n",
      "Hello Happy\n",
      "Hello Tabitha\n"
     ]
    }
   ],
   "source": [
    "visitors=[\"Reagan\",\"Ian\",\"Happy\",\"Tabitha\"]\n",
    "\n",
    "for i in range(len(visitors)):\n",
    "    print(f\"Hello {visitors[i]}\")"
   ]
  },
  {
   "cell_type": "code",
   "execution_count": 5,
   "metadata": {},
   "outputs": [
    {
     "name": "stdout",
     "output_type": "stream",
     "text": [
      "[0, 3, 6, 9, 12, 15, 18, 21, 24, 27, 30, 33, 36, 39, 42, 45, 48, 51, 54]\n"
     ]
    }
   ],
   "source": [
    "# Exercise 3\n",
    "# Get all numbers divisible by 3 between 0 and number (user input)\n",
    "\n",
    "lastNo=int(input(\"Enter the last No\"))\n",
    "list=[]\n",
    "\n",
    "for i in range(0,lastNo,3):\n",
    "    list.append(i)\n",
    "print(list)\n"
   ]
  },
  {
   "cell_type": "code",
   "execution_count": 6,
   "metadata": {},
   "outputs": [
    {
     "name": "stdout",
     "output_type": "stream",
     "text": [
      "Joel has been verified\n",
      "Jeniffer has been verified\n",
      "Jane has been verified\n",
      "Joe has been verified\n",
      "Jill has been verified\n",
      "Joan has been verified\n",
      "John has been verified\n",
      "[]\n",
      "['Joel', 'Jeniffer', 'Jane', 'Joe', 'Jill', 'Joan', 'John']\n"
     ]
    }
   ],
   "source": [
    "# Exercise 5\n",
    "# consider list of newly registered  but unverified  users of a website.\n",
    "# After we verify these users, how can we move them to a separate list of cofirmed users?\n",
    "unverified=[\"John\",\"Joan\",\"Jill\",\"Joe\",\"Jane\",\"Jeniffer\",\"Joel\"]\n",
    "confirmed=[]\n",
    "\n",
    "while len(unverified)>0:\n",
    "    user=unverified.pop()\n",
    "    confirmed.append(user)\n",
    "    print(f\"{user} has been verified\")\n",
    "\n",
    "print(unverified)\n",
    "print(confirmed)"
   ]
  }
 ],
 "metadata": {
  "kernelspec": {
   "display_name": "Python 3",
   "language": "python",
   "name": "python3"
  },
  "language_info": {
   "codemirror_mode": {
    "name": "ipython",
    "version": 3
   },
   "file_extension": ".py",
   "mimetype": "text/x-python",
   "name": "python",
   "nbconvert_exporter": "python",
   "pygments_lexer": "ipython3",
   "version": "3.10.5"
  },
  "orig_nbformat": 4
 },
 "nbformat": 4,
 "nbformat_minor": 2
}
