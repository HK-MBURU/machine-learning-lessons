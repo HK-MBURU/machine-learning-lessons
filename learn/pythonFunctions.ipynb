{
 "cells": [
  {
   "cell_type": "code",
   "execution_count": 5,
   "metadata": {},
   "outputs": [
    {
     "name": "stdout",
     "output_type": "stream",
     "text": [
      "Hello Maina\n"
     ]
    }
   ],
   "source": [
    "# Python Functions\n",
    "name=input(\"Enter your name\")\n",
    "def greeting(name):\n",
    "    \"\"\"greetings\"\"\"\n",
    "\n",
    "    print(f\"Hello {name}\")\n",
    "\n",
    "greeting(name)"
   ]
  },
  {
   "cell_type": "code",
   "execution_count": 6,
   "metadata": {},
   "outputs": [
    {
     "name": "stdout",
     "output_type": "stream",
     "text": [
      "Hello Haron\n",
      "Hello Mburu\n",
      "Hello Kiarii\n"
     ]
    }
   ],
   "source": [
    "# Given a list of users. Create a python function called greet_user() that takes each name of the user in the list and returns greetings\n",
    "\n",
    "list=['Haron','Mburu','Kiarii']\n",
    "\n",
    "\n",
    "\n",
    "def greet_user(name):\n",
    "    print(f\"Hello {name}\")\n",
    "\n",
    "for name in list:\n",
    "    greet_user(name)"
   ]
  },
  {
   "cell_type": "code",
   "execution_count": 7,
   "metadata": {},
   "outputs": [
    {
     "name": "stdout",
     "output_type": "stream",
     "text": [
      "\n",
      " I have a Harry.\n",
      "My Harry's name is Dog.\n"
     ]
    }
   ],
   "source": [
    "# Position arguments\n",
    "def describe_pet(animal_type,pet_name):\n",
    "    \"\"\"Display information about pet\"\"\"\n",
    "    print(\"\\n I have a \" + animal_type + \".\")\n",
    "    print(\"My \" + animal_type +\"'s name is \" + pet_name.title()+\".\")\n",
    "\n",
    "describe_pet('Harry' , 'dog')"
   ]
  },
  {
   "cell_type": "code",
   "execution_count": 8,
   "metadata": {},
   "outputs": [
    {
     "name": "stdout",
     "output_type": "stream",
     "text": [
      "\n",
      " I have a Harry.\n",
      "My Harry's name is Dog.\n"
     ]
    }
   ],
   "source": [
    "# keyword arguments\n",
    "def describe_pet(animal_type,pet_name):\n",
    "    \"\"\"Display information about pet\"\"\"\n",
    "    print(\"\\n I have a \" + animal_type + \".\")\n",
    "    print(\"My \" + animal_type +\"'s name is \" + pet_name.title()+\".\")\n",
    "\n",
    "describe_pet(animal_type='Harry' , pet_name='dog')\n"
   ]
  },
  {
   "cell_type": "code",
   "execution_count": 10,
   "metadata": {},
   "outputs": [
    {
     "name": "stdout",
     "output_type": "stream",
     "text": [
      "\n",
      " I have a Harry.\n",
      "My Harry's name is Hen.\n"
     ]
    }
   ],
   "source": [
    "# Default argument\n",
    "def describe_pet(animal_type,pet_name=\"hen\"):\n",
    "    \"\"\"Display information about pet\"\"\"\n",
    "    print(\"\\n I have a \" + animal_type + \".\")\n",
    "    print(\"My \" + animal_type +\"'s name is \" + pet_name.title()+\".\")\n",
    "\n",
    "describe_pet('Harry')"
   ]
  },
  {
   "cell_type": "code",
   "execution_count": 11,
   "metadata": {},
   "outputs": [
    {
     "name": "stdout",
     "output_type": "stream",
     "text": [
      "Haron\n",
      "27\n",
      "Computer Scientist\n",
      "Kenya\n",
      "1.5\n",
      "Nairobi\n",
      "Kericho\n"
     ]
    }
   ],
   "source": [
    "# Arbitrary arguments\n",
    "def user(*args):\n",
    "    for user_info in args:\n",
    "        print(user_info)\n",
    "\n",
    "user('Haron','27','Computer Scientist','Kenya',1.5,'Nairobi','Kericho')"
   ]
  },
  {
   "cell_type": "code",
   "execution_count": 12,
   "metadata": {},
   "outputs": [
    {
     "name": "stdout",
     "output_type": "stream",
     "text": [
      "{'name': 'Haron', 'age': '24', 'occupation': 'Nurse', 'country': 'Kenyan'}\n"
     ]
    }
   ],
   "source": [
    "# **kwargs\n",
    "def user(**kwargs):\n",
    "    print(kwargs)\n",
    "\n",
    "user(name='Haron',age='24',occupation='Nurse',country='Kenyan')"
   ]
  },
  {
   "cell_type": "code",
   "execution_count": 13,
   "metadata": {},
   "outputs": [
    {
     "name": "stdout",
     "output_type": "stream",
     "text": [
      "Haron Mburu\n"
     ]
    }
   ],
   "source": [
    "# Functions with output\n",
    "def get_formatted_name(first_name,last_name):\n",
    "    \"\"\"Return a full name, neatly formated\"\"\"\n",
    "    full_name=first_name + ' ' + last_name\n",
    "    return full_name.title()\n",
    "\n",
    "inventor=get_formatted_name('Haron','Mburu')\n",
    "print(inventor)"
   ]
  },
  {
   "cell_type": "code",
   "execution_count": 15,
   "metadata": {},
   "outputs": [
    {
     "name": "stdout",
     "output_type": "stream",
     "text": [
      "80\n"
     ]
    }
   ],
   "source": [
    "def squared(n):\n",
    "    return n**2\n",
    "result=squared(4)\n",
    "print(result*5)"
   ]
  },
  {
   "cell_type": "code",
   "execution_count": 2,
   "metadata": {},
   "outputs": [
    {
     "name": "stdout",
     "output_type": "stream",
     "text": [
      " The answer is 46\n"
     ]
    }
   ],
   "source": [
    "# Using everything we have covered do far create a claculator that support the four most common opperations(+,-,/,*)\n",
    "# Your calculator should be python based\n",
    "\n",
    "operation=input(\"Select the operation to perform \\n 1. Add \\n 2. Multiply \\n 3. Subtract \\n 4. Divide\")\n",
    "num1=int(input(\"Enter the first Number\"))\n",
    "num2=int(input(\"Enter the second number\"))\n",
    "\n",
    "def add(num1,num2):\n",
    "    print(f\" The answer is {num1 + num2}\")\n",
    "\n",
    "def multiply(num1,num2):\n",
    "    print(f\" The answer is {num1 * num2}\")\n",
    "\n",
    "def subtract(num1,num2):\n",
    "    print(f\" The answer is {num1 - num2}\")\n",
    "\n",
    "def divide(num1,num2):\n",
    "    print(f\" The answer is {num1 / num2}\")\n",
    "\n",
    "if(operation=='1'):\n",
    "    add(num1,num2)\n",
    "\n",
    "elif(operation=='2'):\n",
    "    multiply(num1,num2)\n",
    "\n",
    "elif(operation=='3'):\n",
    "    subtract(num1,num2)\n",
    "\n",
    "elif(operation=='4'):\n",
    "    divide(num1,num2)\n",
    "\n",
    "else:\n",
    "    print(\"Error no such operation\")\n",
    "\n"
   ]
  }
 ],
 "metadata": {
  "kernelspec": {
   "display_name": "Python 3",
   "language": "python",
   "name": "python3"
  },
  "language_info": {
   "codemirror_mode": {
    "name": "ipython",
    "version": 3
   },
   "file_extension": ".py",
   "mimetype": "text/x-python",
   "name": "python",
   "nbconvert_exporter": "python",
   "pygments_lexer": "ipython3",
   "version": "3.10.5"
  },
  "orig_nbformat": 4
 },
 "nbformat": 4,
 "nbformat_minor": 2
}
