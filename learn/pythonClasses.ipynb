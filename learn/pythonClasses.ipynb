{
 "cells": [
  {
   "cell_type": "code",
   "execution_count": 11,
   "metadata": {},
   "outputs": [],
   "source": [
    "# Object Oriented Programming\n",
    "# Python Class\n",
    "# It is a blue print for defining real world object\n",
    "\n",
    "class Dog:\n",
    "    def __init__(self,name,age):\n",
    "        self.name=name\n",
    "        self.age=age\n",
    "\n",
    "    def bark(self):\n",
    "            print(f\"{self.name} says Woof!\")\n",
    " "
   ]
  },
  {
   "cell_type": "code",
   "execution_count": 13,
   "metadata": {},
   "outputs": [],
   "source": [
    "# Creating class instance\n",
    "bunny= Dog(\"Mutina\",2)\n"
   ]
  },
  {
   "cell_type": "code",
   "execution_count": 14,
   "metadata": {},
   "outputs": [
    {
     "name": "stdout",
     "output_type": "stream",
     "text": [
      "Mutina\n"
     ]
    }
   ],
   "source": [
    "# accesing attributes\n",
    "print(bunny.name)"
   ]
  },
  {
   "cell_type": "code",
   "execution_count": 15,
   "metadata": {},
   "outputs": [
    {
     "name": "stdout",
     "output_type": "stream",
     "text": [
      "Mutina says Woof!\n"
     ]
    }
   ],
   "source": [
    "# calling methods\n",
    "bunny.bark()"
   ]
  },
  {
   "cell_type": "code",
   "execution_count": 16,
   "metadata": {},
   "outputs": [
    {
     "name": "stdout",
     "output_type": "stream",
     "text": [
      "Ngui\n"
     ]
    }
   ],
   "source": [
    "# modifying class attributes\n",
    "bunny.name=\"Ngui\"\n",
    "print(bunny.name)"
   ]
  },
  {
   "cell_type": "code",
   "execution_count": 17,
   "metadata": {},
   "outputs": [
    {
     "name": "stdout",
     "output_type": "stream",
     "text": [
      "Ngui says Woof!\n"
     ]
    }
   ],
   "source": [
    "bunny.bark()"
   ]
  },
  {
   "cell_type": "code",
   "execution_count": 18,
   "metadata": {},
   "outputs": [],
   "source": [
    "# Exercise 1\n",
    "# Restaurant:\n",
    "\n",
    "# -make a class called Restaurant\n",
    "# -The init() method for Restaurant should store two attributes: a restaurant_name and cuisine_type. \n",
    "# -Make a method called describe_restaurant() that prints these two pieces of information, and method called open_restaurant() that prints a message\n",
    "#  indicating that the Restaurant is open. \n",
    "# -Make an instance called restaurant from your class. \n",
    "# -Print the two attributes individually and then call both methods.\n",
    "\n",
    "class Restaurant:\n",
    "    def __init__(self,restaurant_name,cuisine_type):\n",
    "        self.restaurant_name=restaurant_name\n",
    "        self.cuisine_type=cuisine_type\n",
    "\n",
    "    def describe_restaurant(self):\n",
    "        print(f\"Restaurant name: {self.restaurant_name}\")\n",
    "        print(f\"Restaurant type: {self.cuisine_type}\")\n",
    "\n",
    "    def open_restaurant(self):\n",
    "        print(f\"{self.restaurant_name} is open.\")"
   ]
  },
  {
   "cell_type": "code",
   "execution_count": 19,
   "metadata": {},
   "outputs": [],
   "source": [
    "restaurant=Restaurant(\"Mimshak\",\"Kachai\")"
   ]
  },
  {
   "cell_type": "code",
   "execution_count": 20,
   "metadata": {},
   "outputs": [
    {
     "name": "stdout",
     "output_type": "stream",
     "text": [
      "Restaurant name: Mimshak\n",
      "Restaurant type: Kachai\n"
     ]
    }
   ],
   "source": [
    "restaurant.describe_restaurant()"
   ]
  },
  {
   "cell_type": "code",
   "execution_count": 21,
   "metadata": {},
   "outputs": [
    {
     "name": "stdout",
     "output_type": "stream",
     "text": [
      "Mimshak is open.\n"
     ]
    }
   ],
   "source": [
    "restaurant.open_restaurant()"
   ]
  },
  {
   "cell_type": "code",
   "execution_count": 1,
   "metadata": {},
   "outputs": [
    {
     "name": "stdout",
     "output_type": "stream",
     "text": [
      "Chunk\n",
      "canis familiaris\n"
     ]
    }
   ],
   "source": [
    "# Class Attributes vs Instance Attributes\n",
    "class Dog:\n",
    "    species=\"canis familiaris\"\n",
    "    def __init__(self,name,age):\n",
    "        self.name=name\n",
    "        self.age=age\n",
    "\n",
    "chunk=Dog(\"Chunk\",5)\n",
    "print(chunk.name)\n",
    "print(chunk.species)\n"
   ]
  },
  {
   "cell_type": "code",
   "execution_count": 3,
   "metadata": {},
   "outputs": [
    {
     "name": "stdout",
     "output_type": "stream",
     "text": [
      "Miles\n",
      "canis familiaris\n"
     ]
    }
   ],
   "source": [
    "miles=Dog(\"Miles\",5)\n",
    "print(miles.name)\n",
    "print(miles.species)"
   ]
  },
  {
   "cell_type": "code",
   "execution_count": 24,
   "metadata": {},
   "outputs": [],
   "source": [
    "# Class Inheritance\n",
    "class Car:\n",
    "    \"\"\"A simple attempt torepresent a car\"\"\"\n",
    "    def __init__(self,make,model,year):\n",
    "        self.make=make\n",
    "        self.model=model\n",
    "        self.year=year\n",
    "        self.adometer_reading=0\n",
    "        self.fuelTank=70\n",
    "\n",
    "    def get_descriptive_name(self):\n",
    "        long_name=str(self.year) + ' ' + self.make + ' '+ self.model\n",
    "        return long_name.title()\n",
    "    \n",
    "    def read_odometer(self):\n",
    "        print(\"This car has \" + str(self.adometer_reading) + \" miles on it.\")\n",
    "\n",
    "    def update_odometer(self,mileage):\n",
    "        if mileage>=self.adometer_reading:\n",
    "            self.adometer_reading=mileage\n",
    "\n",
    "        else:\n",
    "            print(\"You cant roll back an odometer!\")\n",
    "\n",
    "    def increment_odometer(self,miles):\n",
    "        self.adometer_reading+=miles\n",
    "\n",
    "    def fuel_tank_capacity(self):\n",
    "        print(f\"Fuel tank can take in {self.fuelTank} litres of petrol\")"
   ]
  },
  {
   "cell_type": "code",
   "execution_count": 28,
   "metadata": {},
   "outputs": [
    {
     "name": "stdout",
     "output_type": "stream",
     "text": [
      "2022 Tesla Cybertruck\n"
     ]
    }
   ],
   "source": [
    "class ElectricCar(Car):\n",
    "    \"\"\"Represent aspects of a car, secific to electric vehicles,\"\"\"\n",
    "    def __init__(self,make,model,year,batteryRange):\n",
    "        \"\"\"Initiate attributes of the parent class.\"\"\"\n",
    "        super().__init__(make,model,year)\n",
    "        self.batteryRange=batteryRange\n",
    "\n",
    "    def fuel_tank_capacity(self):\n",
    "        print(\"Electric cars dont have fuel tanks\")\n",
    "\n",
    "my_tesla=ElectricCar('tesla','CyberTruck',2022,500)\n",
    "print(my_tesla.get_descriptive_name())"
   ]
  },
  {
   "cell_type": "code",
   "execution_count": 23,
   "metadata": {},
   "outputs": [
    {
     "name": "stdout",
     "output_type": "stream",
     "text": [
      "500\n"
     ]
    }
   ],
   "source": [
    "print(my_tesla.batteryRange)"
   ]
  },
  {
   "cell_type": "code",
   "execution_count": 20,
   "metadata": {},
   "outputs": [],
   "source": [
    "my_tesla.update_odometer(3000)"
   ]
  },
  {
   "cell_type": "code",
   "execution_count": 21,
   "metadata": {},
   "outputs": [
    {
     "name": "stdout",
     "output_type": "stream",
     "text": [
      "This car has 3000 miles on it.\n"
     ]
    }
   ],
   "source": [
    "my_tesla.read_odometer()"
   ]
  },
  {
   "cell_type": "code",
   "execution_count": 29,
   "metadata": {},
   "outputs": [
    {
     "name": "stdout",
     "output_type": "stream",
     "text": [
      "Electric cars dont have fuel tanks\n"
     ]
    }
   ],
   "source": [
    "# Overiding method\n",
    "my_tesla.fuel_tank_capacity()"
   ]
  }
 ],
 "metadata": {
  "kernelspec": {
   "display_name": "Python 3",
   "language": "python",
   "name": "python3"
  },
  "language_info": {
   "codemirror_mode": {
    "name": "ipython",
    "version": 3
   },
   "file_extension": ".py",
   "mimetype": "text/x-python",
   "name": "python",
   "nbconvert_exporter": "python",
   "pygments_lexer": "ipython3",
   "version": "3.10.5"
  },
  "orig_nbformat": 4
 },
 "nbformat": 4,
 "nbformat_minor": 2
}
