{
 "cells": [
  {
   "cell_type": "code",
   "execution_count": 11,
   "metadata": {},
   "outputs": [
    {
     "data": {
      "text/plain": [
       "dict"
      ]
     },
     "execution_count": 11,
     "metadata": {},
     "output_type": "execute_result"
    }
   ],
   "source": [
    "# Dictionary structure\n",
    "person={'name':'Haron Mburu','age':23,'country':'Kenya'}\n",
    "type(person)"
   ]
  },
  {
   "cell_type": "code",
   "execution_count": 2,
   "metadata": {},
   "outputs": [
    {
     "data": {
      "text/plain": [
       "'Haron Mburu'"
      ]
     },
     "execution_count": 2,
     "metadata": {},
     "output_type": "execute_result"
    }
   ],
   "source": [
    "# Accesing items in a dictionary\n",
    "name=person['name']\n",
    "name"
   ]
  },
  {
   "cell_type": "code",
   "execution_count": 3,
   "metadata": {},
   "outputs": [
    {
     "data": {
      "text/plain": [
       "{'name': 'Haron Mburu', 'age': 23, 'country': 'Kenya', 'city': 'Nairobi'}"
      ]
     },
     "execution_count": 3,
     "metadata": {},
     "output_type": "execute_result"
    }
   ],
   "source": [
    "# adding new key-value pairs\n",
    "person['city']='Nairobi'\n",
    "person"
   ]
  },
  {
   "cell_type": "code",
   "execution_count": 6,
   "metadata": {},
   "outputs": [
    {
     "data": {
      "text/plain": [
       "{'name': 'Haron Mburu', 'age': 23, 'city': 'Nyeri'}"
      ]
     },
     "execution_count": 6,
     "metadata": {},
     "output_type": "execute_result"
    }
   ],
   "source": [
    "# modifying values in dictionary\n",
    "person['city']='Nyeri'\n",
    "person"
   ]
  },
  {
   "cell_type": "code",
   "execution_count": 5,
   "metadata": {},
   "outputs": [
    {
     "data": {
      "text/plain": [
       "{'name': 'Haron Mburu', 'age': 23, 'city': 'Nyeri'}"
      ]
     },
     "execution_count": 5,
     "metadata": {},
     "output_type": "execute_result"
    }
   ],
   "source": [
    "# Removing key-value pairs\n",
    "del person['country']\n",
    "person"
   ]
  },
  {
   "cell_type": "code",
   "execution_count": 8,
   "metadata": {},
   "outputs": [
    {
     "name": "stdout",
     "output_type": "stream",
     "text": [
      "My name is Mike\n"
     ]
    },
    {
     "data": {
      "text/plain": [
       "{'animaltype': 'Dog', 'age': 15, 'color': 'Yellow'}"
      ]
     },
     "execution_count": 8,
     "metadata": {},
     "output_type": "execute_result"
    }
   ],
   "source": [
    "# Using pop() method\n",
    "# removes item with the provided key and returns the value\n",
    "pets={'animaltype':'Dog','name':'Mike','age':15,'color':'Yellow'}\n",
    "name=pets.pop('name')\n",
    "print(f\"My name is {name}\")\n",
    "pets"
   ]
  },
  {
   "cell_type": "code",
   "execution_count": 9,
   "metadata": {},
   "outputs": [
    {
     "data": {
      "text/plain": [
       "('color', 'Yellow')"
      ]
     },
     "execution_count": 9,
     "metadata": {},
     "output_type": "execute_result"
    }
   ],
   "source": [
    "# popitem() method\n",
    "# removes and returns an arbitrry (key,value) item pair from dictionary\n",
    "color=pets.popitem()\n",
    "color"
   ]
  },
  {
   "cell_type": "code",
   "execution_count": 10,
   "metadata": {},
   "outputs": [
    {
     "data": {
      "text/plain": [
       "{'animaltype': 'Dog', 'age': 15}"
      ]
     },
     "execution_count": 10,
     "metadata": {},
     "output_type": "execute_result"
    }
   ],
   "source": [
    "pets"
   ]
  },
  {
   "cell_type": "code",
   "execution_count": 13,
   "metadata": {},
   "outputs": [
    {
     "data": {
      "text/plain": [
       "{'name': 'Haron Mburu', 'age': 23, 'country': 'Kenya'}"
      ]
     },
     "execution_count": 13,
     "metadata": {},
     "output_type": "execute_result"
    }
   ],
   "source": [
    "person"
   ]
  },
  {
   "cell_type": "code",
   "execution_count": 15,
   "metadata": {},
   "outputs": [
    {
     "name": "stdout",
     "output_type": "stream",
     "text": [
      "name Haron Mburu\n",
      "age 23\n",
      "country Kenya\n"
     ]
    }
   ],
   "source": [
    "# Looping through Dictionaries\n",
    "# Looping through all Key-Value Pairs\n",
    "for k,v in person.items():\n",
    "    print(k,v)\n"
   ]
  },
  {
   "cell_type": "code",
   "execution_count": 16,
   "metadata": {},
   "outputs": [],
   "source": [
    "favorite_languages={\n",
    "    'jen':'python',\n",
    "    'sarah':'C',\n",
    "    'Edward':'Ruby',\n",
    "    'Philip':'Python'\n",
    "}"
   ]
  },
  {
   "cell_type": "code",
   "execution_count": 17,
   "metadata": {},
   "outputs": [
    {
     "name": "stdout",
     "output_type": "stream",
     "text": [
      "Jen:> PYTHON\n",
      "Sarah:> C\n",
      "Edward:> RUBY\n",
      "Philip:> PYTHON\n"
     ]
    }
   ],
   "source": [
    "for name,lang in favorite_languages.items():\n",
    "    print(f'{name.title()}:> {lang.upper()}')"
   ]
  },
  {
   "cell_type": "code",
   "execution_count": 20,
   "metadata": {},
   "outputs": [
    {
     "name": "stdout",
     "output_type": "stream",
     "text": [
      "Jen\n",
      "Sarah\n",
      "Edward\n",
      "Philip\n"
     ]
    }
   ],
   "source": [
    "# Looping through all the keys in a dictionary\n",
    "for name in favorite_languages.keys():\n",
    "    print(name.title())"
   ]
  },
  {
   "cell_type": "code",
   "execution_count": 21,
   "metadata": {},
   "outputs": [
    {
     "name": "stdout",
     "output_type": "stream",
     "text": [
      "python\n",
      "C\n",
      "Ruby\n",
      "Python\n"
     ]
    }
   ],
   "source": [
    "# Looping through values\n",
    "for lang in favorite_languages.values():\n",
    "    print(lang)"
   ]
  },
  {
   "cell_type": "code",
   "execution_count": 31,
   "metadata": {},
   "outputs": [],
   "source": [
    "# Nesting Dictionaries\n",
    "cohort={\n",
    "    'course':'Data Science',\n",
    "    'start':'Jan',\n",
    "    'end':'March',\n",
    "    'Students':[\n",
    "        {\n",
    "            'name':'Haron',\n",
    "            'age':30,\n",
    "            'country':'Kenya',\n",
    "            'assignment_scores':{'assignment_1':50,'assignment_2':70,'assignment_3':65},\n",
    "           \n",
    "        },\n",
    "        {\n",
    "            'name':'Chinedu',\n",
    "            'age':29,\n",
    "            'country':'Nigeria',\n",
    "            'assignment_scores':{'assignment_1':50,'assignment_2':60,'assignment_3':65}\n",
    "         }\n",
    "\n",
    "    ]\n",
    "}"
   ]
  },
  {
   "cell_type": "code",
   "execution_count": 32,
   "metadata": {},
   "outputs": [
    {
     "data": {
      "text/plain": [
       "60"
      ]
     },
     "execution_count": 32,
     "metadata": {},
     "output_type": "execute_result"
    }
   ],
   "source": [
    "# Score of Chinedu in assignment2\n",
    "score=cohort['Students'][1]['assignment_scores']['assignment_2']\n",
    "score"
   ]
  }
 ],
 "metadata": {
  "kernelspec": {
   "display_name": "Python 3",
   "language": "python",
   "name": "python3"
  },
  "language_info": {
   "codemirror_mode": {
    "name": "ipython",
    "version": 3
   },
   "file_extension": ".py",
   "mimetype": "text/x-python",
   "name": "python",
   "nbconvert_exporter": "python",
   "pygments_lexer": "ipython3",
   "version": "3.10.5"
  },
  "orig_nbformat": 4
 },
 "nbformat": 4,
 "nbformat_minor": 2
}
