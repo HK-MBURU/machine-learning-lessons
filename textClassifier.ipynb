{
  "nbformat": 4,
  "nbformat_minor": 0,
  "metadata": {
    "colab": {
      "provenance": [],
      "authorship_tag": "ABX9TyPnwI7nk6cG7m2FRmGDZEK9",
      "include_colab_link": true
    },
    "kernelspec": {
      "name": "python3",
      "display_name": "Python 3"
    },
    "language_info": {
      "name": "python"
    }
  },
  "cells": [
    {
      "cell_type": "markdown",
      "metadata": {
        "id": "view-in-github",
        "colab_type": "text"
      },
      "source": [
        "<a href=\"https://colab.research.google.com/github/HK-MBURU/machine-learning-lessons/blob/master/textClassifier.ipynb\" target=\"_parent\"><img src=\"https://colab.research.google.com/assets/colab-badge.svg\" alt=\"Open In Colab\"/></a>"
      ]
    },
    {
      "cell_type": "code",
      "execution_count": 1,
      "metadata": {
        "colab": {
          "base_uri": "https://localhost:8080/"
        },
        "id": "g52ma-yqjcs6",
        "outputId": "b9997297-8d26-4d45-9be1-49d0a899df19"
      },
      "outputs": [
        {
          "output_type": "stream",
          "name": "stdout",
          "text": [
            "Requirement already satisfied: textblob in /usr/local/lib/python3.10/dist-packages (0.17.1)\n",
            "Requirement already satisfied: nltk>=3.1 in /usr/local/lib/python3.10/dist-packages (from textblob) (3.8.1)\n",
            "Requirement already satisfied: click in /usr/local/lib/python3.10/dist-packages (from nltk>=3.1->textblob) (8.1.7)\n",
            "Requirement already satisfied: joblib in /usr/local/lib/python3.10/dist-packages (from nltk>=3.1->textblob) (1.3.2)\n",
            "Requirement already satisfied: regex>=2021.8.3 in /usr/local/lib/python3.10/dist-packages (from nltk>=3.1->textblob) (2023.6.3)\n",
            "Requirement already satisfied: tqdm in /usr/local/lib/python3.10/dist-packages (from nltk>=3.1->textblob) (4.66.1)\n",
            "[nltk_data] Downloading package brown to /root/nltk_data...\n",
            "[nltk_data]   Package brown is already up-to-date!\n",
            "[nltk_data] Downloading package punkt to /root/nltk_data...\n",
            "[nltk_data]   Package punkt is already up-to-date!\n",
            "[nltk_data] Downloading package wordnet to /root/nltk_data...\n",
            "[nltk_data]   Package wordnet is already up-to-date!\n",
            "[nltk_data] Downloading package averaged_perceptron_tagger to\n",
            "[nltk_data]     /root/nltk_data...\n",
            "[nltk_data]   Package averaged_perceptron_tagger is already up-to-\n",
            "[nltk_data]       date!\n",
            "[nltk_data] Downloading package conll2000 to /root/nltk_data...\n",
            "[nltk_data]   Package conll2000 is already up-to-date!\n",
            "[nltk_data] Downloading package movie_reviews to /root/nltk_data...\n",
            "[nltk_data]   Package movie_reviews is already up-to-date!\n",
            "Finished.\n"
          ]
        }
      ],
      "source": [
        "!pip install -U textblob\n",
        "!python -m textblob.download_corpora\n",
        "import pandas as pd"
      ]
    },
    {
      "cell_type": "code",
      "source": [
        "from textblob.classifiers import NaiveBayesClassifier"
      ],
      "metadata": {
        "id": "03caNy-Rj1sw"
      },
      "execution_count": 2,
      "outputs": []
    },
    {
      "cell_type": "code",
      "source": [
        "train=[\n",
        "    ('this is great.','pos'),\n",
        "     ('this is awesome.','pos'),\n",
        "    ('this is terrible.','neg'),\n",
        "    ('this is bad','neg'),\n",
        "    ('this is horrible.','neg')\n",
        "]\n",
        "test=[\n",
        "    ('I amgreat.','pos'),\n",
        "    ('I am awesome.','pos'),\n",
        "    ('I am good.','pos'),\n",
        "    ('I am terrible','neg'),\n",
        "    ('I am bad.','neg'),\n",
        "    ('I am horrible.','neg')\n",
        "]"
      ],
      "metadata": {
        "id": "IDrCw7i1kHoE"
      },
      "execution_count": 3,
      "outputs": []
    },
    {
      "cell_type": "code",
      "source": [
        "cl=NaiveBayesClassifier(train)\n",
        "cl.classify('We had horrible  food !')\n",
        "cl.accuracy(test)"
      ],
      "metadata": {
        "colab": {
          "base_uri": "https://localhost:8080/"
        },
        "id": "wgjlrdFTllG0",
        "outputId": "d497856d-9b93-4961-c360-df7668202815"
      },
      "execution_count": 4,
      "outputs": [
        {
          "output_type": "execute_result",
          "data": {
            "text/plain": [
              "1.0"
            ]
          },
          "metadata": {},
          "execution_count": 4
        }
      ]
    },
    {
      "cell_type": "code",
      "source": [
        "# updating data\n",
        "new_data=[\n",
        "    ('She is my best friend.','pos'),\n",
        "    (\"I'm happy to have a new friend.\",'pos'),\n",
        "    (\"Stay thirsty, my friend.\",'pos'),\n",
        "    (\"He isn't from around here.\",'neg'),\n",
        "    (\"She isn't a nice person.\",'neg')\n",
        "\n",
        "]\n",
        "cl.update(new_data)"
      ],
      "metadata": {
        "colab": {
          "base_uri": "https://localhost:8080/"
        },
        "id": "IW83IkATmAG5",
        "outputId": "b1ba227d-f1b5-45dc-8778-b45b34744b69"
      },
      "execution_count": 5,
      "outputs": [
        {
          "output_type": "execute_result",
          "data": {
            "text/plain": [
              "True"
            ]
          },
          "metadata": {},
          "execution_count": 5
        }
      ]
    },
    {
      "cell_type": "code",
      "source": [
        "df=pd.read_csv('train.csv')\n",
        "df.head"
      ],
      "metadata": {
        "colab": {
          "base_uri": "https://localhost:8080/"
        },
        "id": "XoZe0bq4nsoq",
        "outputId": "250426d7-09a3-4fb9-9184-d095c3c71dd4"
      },
      "execution_count": 6,
      "outputs": [
        {
          "output_type": "execute_result",
          "data": {
            "text/plain": [
              "<bound method NDFrame.head of                                                 Comment      Topic\n",
              "0     A few things. You might have negative- frequen...    Biology\n",
              "1     Is it so hard to believe that there exist part...    Physics\n",
              "2                                        There are bees    Biology\n",
              "3     I'm a medication technician. And that's alot o...    Biology\n",
              "4                        Cesium is such a pretty metal.  Chemistry\n",
              "...                                                 ...        ...\n",
              "1993              Idk but I know the matter type plasma  Chemistry\n",
              "1994  Think about the forces in play. You have a con...    Physics\n",
              "1995                           And also the enantiomer?    Biology\n",
              "1996  Yes. Water provides electrons for PSII which t...    Biology\n",
              "1997  Isn't this massively overused and done a milli...  Chemistry\n",
              "\n",
              "[1998 rows x 2 columns]>"
            ]
          },
          "metadata": {},
          "execution_count": 6
        }
      ]
    },
    {
      "cell_type": "code",
      "source": [
        "# with open('train.csv','r',encoding='latin-1') as csvfile:\n",
        "#   # Create a CSV reader\n",
        "#   reader=csv.reader(csvfile)\n",
        "\n",
        "#   # skip the header row\n",
        "#   header=next(reader)\n",
        "\n",
        "#   # Create a list to store training data tuples\n",
        "#   training_data=[]\n",
        "\n",
        "#   # Iterate through the rows in the CSV file\n",
        "#   for row in reader:\n",
        "#     # Extract the comment and topic columns(assuming they are in the second and third columns)\n",
        "#     comment=row[1]\n",
        "#     topic=row[2]\n",
        "\n",
        "#     # Append the tuple to the training data list\n",
        "#     training_data.append((comment,topic))\n",
        "\n",
        "#     # Train the NaiveBayesClassifier\n",
        "#   cl=NaiveBayesClassifier(training_data)"
      ],
      "metadata": {
        "id": "PAFH4YnPpHjB"
      },
      "execution_count": 7,
      "outputs": []
    },
    {
      "cell_type": "code",
      "source": [
        "# Read csv file into a DataFrame\n",
        "# df=pd.read_csv('train.csv',encoding='latin-1')"
      ],
      "metadata": {
        "id": "VfRWbKTJqK3r"
      },
      "execution_count": 8,
      "outputs": []
    },
    {
      "cell_type": "code",
      "source": [
        "# Drop the id column\n",
        "# df=df.drop(columns=['Id'])"
      ],
      "metadata": {
        "id": "6aQzwbPFv5b4"
      },
      "execution_count": 9,
      "outputs": []
    },
    {
      "cell_type": "code",
      "source": [
        "# Extract 'comment' and 'topic' columns for taining\n",
        "# training_data=list(zip(df['Comment'],df['Topic']))"
      ],
      "metadata": {
        "id": "ex5ugDDswFr_"
      },
      "execution_count": 10,
      "outputs": []
    },
    {
      "cell_type": "code",
      "source": [
        "# Train the NaiveBayesClassifier\n",
        "# cl=NaiveBayesClassifier(training_data)"
      ],
      "metadata": {
        "id": "IkE4oQehwtXr"
      },
      "execution_count": 11,
      "outputs": []
    },
    {
      "cell_type": "code",
      "source": [
        "with open('train.csv','r',encoding='latin-1') as f:\n",
        "  cl=NaiveBayesClassifier(f,format='csv')"
      ],
      "metadata": {
        "id": "bLLF6bRYw5F3"
      },
      "execution_count": 12,
      "outputs": []
    },
    {
      "cell_type": "code",
      "source": [
        "with open('test.csv','r',encoding='latin-1') as f:\n",
        "  print(cl.accuracy(f,format='csv'))"
      ],
      "metadata": {
        "colab": {
          "base_uri": "https://localhost:8080/"
        },
        "id": "w2PWQFFdy-kb",
        "outputId": "187f25eb-aae1-46e5-c367-603039f0b2ed"
      },
      "execution_count": 13,
      "outputs": [
        {
          "output_type": "stream",
          "name": "stdout",
          "text": [
            "0.7214870825456837\n"
          ]
        }
      ]
    },
    {
      "cell_type": "code",
      "source": [
        "text=\"I'm skeptical. A heavier lid would be needed to build pressure. I feel like I am missing something here \"\n",
        "cl.classify(text)"
      ],
      "metadata": {
        "colab": {
          "base_uri": "https://localhost:8080/",
          "height": 36
        },
        "id": "yDvJhj2Z-eLx",
        "outputId": "8893e0e2-5dce-433e-91b5-7f2a5e3d36aa"
      },
      "execution_count": 16,
      "outputs": [
        {
          "output_type": "execute_result",
          "data": {
            "text/plain": [
              "'Physics'"
            ],
            "application/vnd.google.colaboratory.intrinsic+json": {
              "type": "string"
            }
          },
          "metadata": {},
          "execution_count": 16
        }
      ]
    },
    {
      "cell_type": "code",
      "source": [
        "cl.show_informative_features(5)"
      ],
      "metadata": {
        "colab": {
          "base_uri": "https://localhost:8080/"
        },
        "id": "OZD-wSOz_-RJ",
        "outputId": "27581777-adc2-4db6-e95f-38dac241b61c"
      },
      "execution_count": 17,
      "outputs": [
        {
          "output_type": "stream",
          "name": "stdout",
          "text": [
            "Most Informative Features\n",
            "       contains(physics) = True           Physic : Biolog =     29.3 : 1.0\n",
            "       contains(removed) = True           Physic : Chemis =     22.3 : 1.0\n",
            "     contains(chemistry) = True           Chemis : Physic =     16.4 : 1.0\n",
            "         contains(force) = True           Physic : Chemis =     15.0 : 1.0\n",
            "          contains(data) = True           Physic : Biolog =     14.4 : 1.0\n"
          ]
        }
      ]
    },
    {
      "cell_type": "code",
      "source": [],
      "metadata": {
        "id": "wysZ_v3AAein"
      },
      "execution_count": null,
      "outputs": []
    }
  ]
}